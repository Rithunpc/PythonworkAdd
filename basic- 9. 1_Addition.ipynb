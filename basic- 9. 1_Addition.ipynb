{
 "cells": [
  {
   "cell_type": "code",
   "execution_count": null,
   "metadata": {
    "id": "qrpk13cQZYT5"
   },
   "outputs": [],
   "source": [
    "### To Add 2 numbers \n",
    "1st assign data into string\\\n",
    "input a number"
   ]
  },
  {
   "cell_type": "code",
   "execution_count": 33,
   "metadata": {
    "colab": {
     "base_uri": "https://localhost:8080/"
    },
    "id": "IzUiZK81baNl",
    "outputId": "629ca3dd-0956-4cf1-ffae-d69e3ee35ed2"
   },
   "outputs": [
    {
     "data": {
      "text/plain": [
       "12"
      ]
     },
     "execution_count": 33,
     "metadata": {},
     "output_type": "execute_result"
    }
   ],
   "source": [
    "a=2\n",
    "b=10\n",
    "c=a+b\n",
    "c"
   ]
  },
  {
   "cell_type": "code",
   "execution_count": null,
   "metadata": {
    "id": "y8Gj_tTNbhyt"
   },
   "outputs": [],
   "source": [
    "## or"
   ]
  },
  {
   "cell_type": "code",
   "execution_count": 34,
   "metadata": {
    "colab": {
     "base_uri": "https://localhost:8080/"
    },
    "id": "jOAyb4x8ZzWF",
    "outputId": "23207566-fce5-4fb0-881c-63cc9049494d"
   },
   "outputs": [
    {
     "name": "stdout",
     "output_type": "stream",
     "text": [
      "first number:2\n"
     ]
    }
   ],
   "source": [
    "num1=input('first number:')\n"
   ]
  },
  {
   "cell_type": "code",
   "execution_count": 35,
   "metadata": {
    "colab": {
     "base_uri": "https://localhost:8080/"
    },
    "id": "EF1foG_YZ6HA",
    "outputId": "b20752f0-a395-439c-c8aa-244c5aebbd9a"
   },
   "outputs": [
    {
     "name": "stdout",
     "output_type": "stream",
     "text": [
      "\n",
      "Second number:10\n"
     ]
    }
   ],
   "source": [
    "#back slash is given to come to next line\n",
    "num2=input('\\nSecond number:')"
   ]
  },
  {
   "cell_type": "code",
   "execution_count": 36,
   "metadata": {
    "colab": {
     "base_uri": "https://localhost:8080/"
    },
    "id": "h6OF2SGvaCj1",
    "outputId": "69aadf62-ef0e-4549-90ff-293a6123694d"
   },
   "outputs": [
    {
     "data": {
      "text/plain": [
       "12.0"
      ]
     },
     "execution_count": 36,
     "metadata": {},
     "output_type": "execute_result"
    }
   ],
   "source": [
    "#string converting to float\n",
    "sum=float(num1)+float(num2)\n",
    "sum"
   ]
  },
  {
   "cell_type": "code",
   "execution_count": 37,
   "metadata": {
    "colab": {
     "base_uri": "https://localhost:8080/"
    },
    "id": "JrxdLtvBaQz2",
    "outputId": "478c2b60-0581-4776-d37c-8651583bd850"
   },
   "outputs": [
    {
     "name": "stdout",
     "output_type": "stream",
     "text": [
      "the Sum of 2 and 10 is 12.0\n"
     ]
    }
   ],
   "source": [
    "#to convert float into string format we give .format\n",
    "#here inside the curly brackets we give the index numbers of each code\n",
    "\n",
    "print('the Sum of {0} and {1} is {2}' .format(num1,num2,sum))"
   ]
  }
 ],
 "metadata": {
  "colab": {
   "name": "1.Addition.ipynb",
   "provenance": []
  },
  "kernelspec": {
   "display_name": "Python 3 (ipykernel)",
   "language": "python",
   "name": "python3"
  },
  "language_info": {
   "codemirror_mode": {
    "name": "ipython",
    "version": 3
   },
   "file_extension": ".py",
   "mimetype": "text/x-python",
   "name": "python",
   "nbconvert_exporter": "python",
   "pygments_lexer": "ipython3",
   "version": "3.10.9"
  }
 },
 "nbformat": 4,
 "nbformat_minor": 1
}
